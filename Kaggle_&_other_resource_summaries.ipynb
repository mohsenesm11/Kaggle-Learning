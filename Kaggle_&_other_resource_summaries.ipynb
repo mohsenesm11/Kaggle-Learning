{
  "nbformat": 4,
  "nbformat_minor": 0,
  "metadata": {
    "colab": {
      "name": "Kaggle & other resource summaries.ipynb",
      "provenance": [],
      "toc_visible": true,
      "include_colab_link": true
    },
    "kernelspec": {
      "name": "python3",
      "display_name": "Python 3"
    },
    "language_info": {
      "name": "python"
    }
  },
  "cells": [
    {
      "cell_type": "markdown",
      "metadata": {
        "id": "view-in-github",
        "colab_type": "text"
      },
      "source": [
        "<a href=\"https://colab.research.google.com/github/mohsenesm11/Kaggle-Learning/blob/main/Kaggle_%26_other_resource_summaries.ipynb\" target=\"_parent\"><img src=\"https://colab.research.google.com/assets/colab-badge.svg\" alt=\"Open In Colab\"/></a>"
      ]
    },
    {
      "cell_type": "markdown",
      "metadata": {
        "id": "KjFHcX_mej5m"
      },
      "source": [
        "#Time seies\n"
      ]
    },
    {
      "cell_type": "markdown",
      "metadata": {
        "id": "ryJ5SqF-hh9D"
      },
      "source": [
        "##Downcasting: reducing the volume of data"
      ]
    },
    {
      "cell_type": "markdown",
      "metadata": {
        "id": "xWM1Sb2Xeeso"
      },
      "source": [
        "https://www.kaggle.com/anshuls235/time-series-forecasting-eda-fe-modelling"
      ]
    },
    {
      "cell_type": "markdown",
      "metadata": {
        "id": "GvNAcT_dhoLx"
      },
      "source": [
        " ## Missing value in Time series & TimeSeries Analysis :Arima,Prophet ,...\n"
      ]
    },
    {
      "cell_type": "markdown",
      "metadata": {
        "id": "wDyhtJKLiAIi"
      },
      "source": [
        "1-two type of train ,test split in time series\n",
        "2-check data for being daily idea\n",
        "3-fill na idea with interpolate\n",
        "4-How to use Arima and solve problems like stationary, trend,..."
      ]
    },
    {
      "cell_type": "markdown",
      "metadata": {
        "id": "2xTuyB-KfwWW"
      },
      "source": [
        "https://www.kaggle.com/andreshg/timeseries-analysis-a-complete-guide"
      ]
    },
    {
      "cell_type": "code",
      "metadata": {
        "id": "Lax2-22QenfB"
      },
      "source": [
        "#fill na in time series\n",
        "df['drainage_volume'] = df['drainage_volume'].interpolate()\n",
        "df['river_hydrometry'] = df['river_hydrometry'].interpolate()\n",
        "df['depth_to_groundwater'] = df['depth_to_groundwater'].interpolate()"
      ],
      "execution_count": null,
      "outputs": []
    },
    {
      "cell_type": "markdown",
      "metadata": {
        "id": "LXcnyXKVbiN_"
      },
      "source": [
        "#facebook packages for time series"
      ]
    },
    {
      "cell_type": "markdown",
      "metadata": {
        "id": "tntKhcgybm8_"
      },
      "source": [
        "https://github.com/facebookresearch/Kats"
      ]
    },
    {
      "cell_type": "markdown",
      "metadata": {
        "id": "GfDPIm7tb_QQ"
      },
      "source": [
        "https://www.kaggle.com/rohithmahadevan/alibaba-stock-time-series-analysis"
      ]
    },
    {
      "cell_type": "markdown",
      "metadata": {
        "id": "mtcbsddkcBtQ"
      },
      "source": [
        "https://www.kaggle.com/code?sortBy=voteCount&searchQuery=Kats&language=Python"
      ]
    },
    {
      "cell_type": "markdown",
      "metadata": {
        "id": "1y-CtahDkZIK"
      },
      "source": [
        "##Time series forecasting using LSTM"
      ]
    },
    {
      "cell_type": "markdown",
      "metadata": {
        "id": "p8ld6O4-ke1l"
      },
      "source": [
        "Multivariate\n",
        "https://www.kaggle.com/gurpreetmohaar/time-series-forecasting-using-lstm"
      ]
    },
    {
      "cell_type": "markdown",
      "metadata": {
        "id": "8rYNI2w9kkFZ"
      },
      "source": [
        "Univariate https://www.kaggle.com/ternaryrealm/lstm-time-series-explorations-with-keras"
      ]
    },
    {
      "cell_type": "markdown",
      "metadata": {
        "id": "nVtiU4egL323"
      },
      "source": [
        "https://www.kaggle.com/thousandvoices/simple-lstm"
      ]
    },
    {
      "cell_type": "markdown",
      "metadata": {
        "id": "uhvTySqaL9-d"
      },
      "source": [
        "https://www.kaggle.com/faressayah/stock-market-analysis-prediction-using-lstm"
      ]
    },
    {
      "cell_type": "markdown",
      "metadata": {
        "id": "MkYUpJ7e18F5"
      },
      "source": [
        "##Neural Network Time Series"
      ]
    },
    {
      "cell_type": "markdown",
      "metadata": {
        "id": "IOKs5-ey2CK5"
      },
      "source": [
        "https://www.kaggle.com/abhishekmamidi/time-series-analysis-artificial-neural-networks"
      ]
    },
    {
      "cell_type": "markdown",
      "metadata": {
        "id": "oRru6LZvajMc"
      },
      "source": [
        "#Deep Neural Network Keras way"
      ]
    },
    {
      "cell_type": "markdown",
      "metadata": {
        "id": "0M6R8_frakuo"
      },
      "source": [
        "https://www.kaggle.com/poonaml/deep-neural-network-keras-way"
      ]
    },
    {
      "cell_type": "markdown",
      "metadata": {
        "id": "W3KgCrwg5k-R"
      },
      "source": [
        "https://www.kaggle.com/dimitreoliveira/deep-learning-for-time-series-forecasting"
      ]
    },
    {
      "cell_type": "markdown",
      "metadata": {
        "id": "Ib_n0uQjhxYJ"
      },
      "source": [
        "##Time Series forecasting with XGBoost"
      ]
    },
    {
      "cell_type": "markdown",
      "metadata": {
        "id": "gVxmG96hskHy"
      },
      "source": [
        "https://www.kaggle.com/robikscube/tutorial-time-series-forecasting-with-xgboost"
      ]
    },
    {
      "cell_type": "markdown",
      "metadata": {
        "id": "w216P_IhbEd7"
      },
      "source": [
        "##Forecasting with XGBoost"
      ]
    },
    {
      "cell_type": "markdown",
      "metadata": {
        "id": "RyFzh4Szbliy"
      },
      "source": [
        "https://www.kaggle.com/robikscube/tutorial-time-series-forecasting-with-xgboost"
      ]
    },
    {
      "cell_type": "code",
      "metadata": {
        "id": "yK-Phw1cbq9I"
      },
      "source": [
        "import numpy as np # linear algebra\n",
        "import pandas as pd # data processing, CSV file I/O (e.g. pd.read_csv)\n",
        "import seaborn as sns\n",
        "import matplotlib.pyplot as plt\n",
        "import xgboost as xgb\n",
        "from xgboost import plot_importance, plot_tree\n",
        "from sklearn.preprocessing import LabelEncoder"
      ],
      "execution_count": null,
      "outputs": []
    },
    {
      "cell_type": "code",
      "metadata": {
        "id": "00iljucYbvIR"
      },
      "source": [
        "df = pd.read_csv('C:/Users/erfan.rafieikia/Desktop/Data projects/Forecasting/inputdats.csv', parse_dates = ['Date'])\n",
        "print(df.head())"
      ],
      "execution_count": null,
      "outputs": []
    },
    {
      "cell_type": "code",
      "metadata": {
        "id": "FCD-qW1DbxR1"
      },
      "source": [
        "dff = df\n",
        "# creating instance of labelencoder\n",
        "labelencoder = LabelEncoder()\n",
        "# Assigning numerical values and storing in another column\n",
        "dff['StoreCity_Cat'] = labelencoder.fit_transform(dff['StoreCity'])\n",
        "print(dff.head())"
      ],
      "execution_count": null,
      "outputs": []
    },
    {
      "cell_type": "markdown",
      "metadata": {
        "id": "Ep_yGUFCcrZi"
      },
      "source": [
        "Creating Dummy variables"
      ]
    },
    {
      "cell_type": "code",
      "metadata": {
        "id": "qrnLta2ib376"
      },
      "source": [
        "# generate binary values using get_dummies\n",
        "dum_df = pd.get_dummies(dff, columns=[\"StoreCity_Cat\",'Event'], prefix=[\"Type_is\",'EventType_is'] )\n",
        "print(dum_df.head())"
      ],
      "execution_count": null,
      "outputs": []
    },
    {
      "cell_type": "code",
      "metadata": {
        "id": "QFEoJ3RIb8Mv"
      },
      "source": [
        "dum_df = dum_df.drop(['StoreCity','Customers','cartconvertratio'],axis = 1)\n",
        "print(dum_df.head())"
      ],
      "execution_count": null,
      "outputs": []
    },
    {
      "cell_type": "markdown",
      "metadata": {
        "id": "35xaXE3hcv_q"
      },
      "source": [
        "Creat train and test data"
      ]
    },
    {
      "cell_type": "code",
      "metadata": {
        "id": "prtgEcwzb-0v"
      },
      "source": [
        "x_train = dum_df[dum_df['Date']<'2021-07-01']\n",
        "x_train = x_train.drop(['Date','FOrder'],axis = 1)\n",
        "x_test = dum_df[dum_df['Date']>='2021-07-01']\n",
        "x_test = x_test.drop(['Date','FOrder'],axis = 1)\n",
        "y_train = dum_df[dum_df['Date']<'2021-07-01']\n",
        "y_train = y_train['FOrder']\n",
        "y_test = dum_df[dum_df['Date']>='2021-07-01']\n",
        "y_test = y_test['FOrder']"
      ],
      "execution_count": null,
      "outputs": []
    },
    {
      "cell_type": "markdown",
      "metadata": {
        "id": "YrUQHaeBc0Nw"
      },
      "source": [
        "Model Develop + feature importance"
      ]
    },
    {
      "cell_type": "code",
      "metadata": {
        "id": "hZgIXFFdcA5e"
      },
      "source": [
        "reg = xgb.XGBRegressor(n_estimators=1000)\n",
        "model = reg.fit(x_train, y_train,\n",
        "        eval_set=[(x_train, y_train), (x_test, y_test)],\n",
        "        early_stopping_rounds=50,\n",
        "       verbose=False) # \n",
        "print(model.feature_importances_)\n",
        "# plot feature importance\n",
        "plt.figure(figsize=(18, 12))\n",
        "plot_importance(model,max_num_features=10)\n",
        "plt.rcParams[\"figure.figsize\"] = (10,10)\n",
        "plt.show()"
      ],
      "execution_count": null,
      "outputs": []
    },
    {
      "cell_type": "code",
      "metadata": {
        "id": "kWlA_xbWcEgY"
      },
      "source": [
        "train = pd.concat([x_train,y_train], axis=1)\n",
        "test = pd.concat([x_test,y_test], axis=1)\n",
        "print(train.head())\n",
        "print(test.head())\n",
        "test['Prediction'] = model.predict(x_test)\n",
        "df_all = pd.concat([test,train], sort=False)\n",
        "df_all['Date'] = df['Date'] \n",
        "df_all['StoreCity'] = df['StoreCity']\n",
        "print(df_all.head())"
      ],
      "execution_count": null,
      "outputs": []
    },
    {
      "cell_type": "code",
      "metadata": {
        "id": "XmDuze1_cJIB"
      },
      "source": [
        "df_allTHR = df_all[df_all['StoreCity'] =='store-30']\n",
        "df_allTHR =df_allTHR.set_index('Date')\n",
        "_ = df_allTHR[['FOrder','Prediction']].plot(figsize=(15, 5))"
      ],
      "execution_count": null,
      "outputs": []
    },
    {
      "cell_type": "code",
      "metadata": {
        "id": "1bq4SSd9cNpC"
      },
      "source": [
        "# Plot the forecast with the actuals\n",
        "f, ax = plt.subplots(1)\n",
        "f.set_figheight(5)\n",
        "f.set_figwidth(15)\n",
        "_ = df_allTHR[['Prediction','FOrder']].plot(ax=ax,\n",
        "                                              style=['-','.'])\n",
        "ax.set_xbound(lower='2021-07-01', upper='2021-07-30')\n",
        "ax.set_ylim(0, 60000)\n",
        "plot = plt.suptitle('July 2021 Forecast vs Actuals')"
      ],
      "execution_count": null,
      "outputs": []
    },
    {
      "cell_type": "code",
      "metadata": {
        "id": "g38ujl2ocPyu"
      },
      "source": [
        ""
      ],
      "execution_count": null,
      "outputs": []
    },
    {
      "cell_type": "markdown",
      "metadata": {
        "id": "iaCLLFrDj2T1"
      },
      "source": [
        "https://www.kaggle.com/tilii7/hyperparameter-grid-search-with-xgboost\n",
        "\n",
        "https://www.kaggle.com/phunter/xgboost-with-gridsearchcv\n",
        "\n",
        "https://www.kaggle.com/jayatou/xgbregressor-with-gridsearchcv"
      ]
    },
    {
      "cell_type": "markdown",
      "metadata": {
        "id": "YKT9U0jLj0PK"
      },
      "source": [
        "###Hyperparameter Grid Search with XGBoost"
      ]
    },
    {
      "cell_type": "markdown",
      "metadata": {
        "id": "HPn2eiGlD4rP"
      },
      "source": [
        "##Regression Error Metrics"
      ]
    },
    {
      "cell_type": "markdown",
      "metadata": {
        "id": "IsVI6VSdD8yM"
      },
      "source": [
        "https://www.kaggle.com/caesarlupum/understanding-regression-error-metrics-in-python"
      ]
    },
    {
      "cell_type": "markdown",
      "metadata": {
        "id": "RypbwKI7l17m"
      },
      "source": [
        "#Statistical Learning Tutorial for Beginners"
      ]
    },
    {
      "cell_type": "markdown",
      "metadata": {
        "id": "IlPZOHIjl6tp"
      },
      "source": [
        "https://www.kaggle.com/kanncaa1/statistical-learning-tutorial-for-beginners"
      ]
    },
    {
      "cell_type": "markdown",
      "metadata": {
        "id": "z3O8hYp8m7Ss"
      },
      "source": [
        "#Data Science Glossary on Kaggle"
      ]
    },
    {
      "cell_type": "markdown",
      "metadata": {
        "id": "NXf2MJxBm-t4"
      },
      "source": [
        "https://www.kaggle.com/shivamb/data-science-glossary-on-kaggle?scriptVersionId=8286393"
      ]
    },
    {
      "cell_type": "markdown",
      "metadata": {
        "id": "9x0w4BPg25LB"
      },
      "source": [
        "https://www.kaggle.com/kanncaa1/data-sciencetutorial-for-beginners"
      ]
    },
    {
      "cell_type": "markdown",
      "metadata": {
        "id": "Mb_p_xcizbMf"
      },
      "source": [
        "#KMeans"
      ]
    },
    {
      "cell_type": "markdown",
      "metadata": {
        "id": "FuBLQxzizenr"
      },
      "source": [
        "https://www.kaggle.com/vipulgandhi/kmeans-detailed-explanation\n"
      ]
    },
    {
      "cell_type": "markdown",
      "metadata": {
        "id": "M4LJmcumzjp0"
      },
      "source": [
        "https://www.kaggle.com/sabanasimbutt/clustering-visualization-of-clusters-using-pca\n"
      ]
    },
    {
      "cell_type": "markdown",
      "metadata": {
        "id": "5B2EDxmqTwO6"
      },
      "source": [
        "#Outlier Detection-Isolation Forest"
      ]
    },
    {
      "cell_type": "markdown",
      "metadata": {
        "id": "Xru01-WMT2uV"
      },
      "source": [
        "https://www.kaggle.com/christianlillelund/tutorial-use-isolationforest-to-detect-outliers"
      ]
    },
    {
      "cell_type": "markdown",
      "metadata": {
        "id": "E0ThIUJ6T5Eg"
      },
      "source": [
        "https://www.kaggle.com/adithya44/anomaly-detection-isolation-forest-visualization"
      ]
    },
    {
      "cell_type": "markdown",
      "metadata": {
        "id": "W2-C0BZOT7Bo"
      },
      "source": [
        "https://www.kaggle.com/rgaddati/unsupervised-fraud-detection-isolation-forest"
      ]
    },
    {
      "cell_type": "markdown",
      "metadata": {
        "id": "VsRiGcmZUpFi"
      },
      "source": [
        "#Tutorial on reading large datasets"
      ]
    },
    {
      "cell_type": "markdown",
      "metadata": {
        "id": "n1yswGiDUqrj"
      },
      "source": [
        "https://www.kaggle.com/rohanrao/tutorial-on-reading-large-datasets"
      ]
    },
    {
      "cell_type": "markdown",
      "metadata": {
        "id": "S7HdN89KVdul"
      },
      "source": [
        "#Credit Fraud || Dealing with Imbalanced Datasets"
      ]
    },
    {
      "cell_type": "markdown",
      "metadata": {
        "id": "1Lu_SqB6VeP5"
      },
      "source": [
        "https://www.kaggle.com/janiobachmann/credit-fraud-dealing-with-imbalanced-datasets"
      ]
    },
    {
      "cell_type": "markdown",
      "metadata": {
        "id": "p-y2D4UyYI3M"
      },
      "source": [
        "#Pytorch Tutorial for Deep Learning Lovers"
      ]
    },
    {
      "cell_type": "markdown",
      "metadata": {
        "id": "HcNkI3LpYI-T"
      },
      "source": [
        "https://www.kaggle.com/kanncaa1/pytorch-tutorial-for-deep-learning-lovers"
      ]
    },
    {
      "cell_type": "markdown",
      "metadata": {
        "id": "_sl_DLjuaGko"
      },
      "source": [
        "#Introduction to Ensembling/Stacking in Python"
      ]
    },
    {
      "cell_type": "markdown",
      "metadata": {
        "id": "TvGohijjaGsM"
      },
      "source": [
        "https://www.kaggle.com/arthurtok/introduction-to-ensembling-stacking-in-python"
      ]
    },
    {
      "cell_type": "markdown",
      "metadata": {
        "id": "OhlqIruOY6_s"
      },
      "source": [
        "#Convolutional Neural Network (CNN) Tutorial"
      ]
    },
    {
      "cell_type": "markdown",
      "metadata": {
        "id": "uibXGYiTY7Cq"
      },
      "source": [
        "https://www.kaggle.com/kanncaa1/convolutional-neural-network-cnn-tutorial"
      ]
    },
    {
      "cell_type": "markdown",
      "metadata": {
        "id": "kufBNJP1LAB2"
      },
      "source": [
        "#RNN"
      ]
    },
    {
      "cell_type": "markdown",
      "metadata": {
        "id": "P7LOteaQLC61"
      },
      "source": [
        "https://www.kaggle.com/thebrownviking20/intro-to-recurrent-neural-networks-lstm-gru"
      ]
    },
    {
      "cell_type": "markdown",
      "metadata": {
        "id": "H5ZXFVu4LQa8"
      },
      "source": [
        "#MPL"
      ]
    },
    {
      "cell_type": "markdown",
      "metadata": {
        "id": "AToXeLi7LSpP"
      },
      "source": [
        "https://www.kaggle.com/vitorgamalemos/multilayer-perceptron-from-scratch"
      ]
    },
    {
      "cell_type": "markdown",
      "metadata": {
        "id": "wYns-dZXLVVu"
      },
      "source": [
        "https://www.kaggle.com/dimitreoliveira/deep-learning-for-time-series-forecasting"
      ]
    },
    {
      "cell_type": "markdown",
      "metadata": {
        "id": "Lu_Q5pZLLpIU"
      },
      "source": [
        "https://www.kaggle.com/arindamgot/eda-prophet-mlp-neural-network-forecasting"
      ]
    }
  ]
}